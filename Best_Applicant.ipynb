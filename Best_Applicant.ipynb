{
  "nbformat": 4,
  "nbformat_minor": 0,
  "metadata": {
    "colab": {
      "provenance": []
    },
    "kernelspec": {
      "name": "python3",
      "display_name": "Python 3"
    },
    "language_info": {
      "name": "python"
    }
  },
  "cells": [
    {
      "cell_type": "code",
      "execution_count": 36,
      "metadata": {
        "colab": {
          "base_uri": "https://localhost:8080/"
        },
        "id": "owc8jXRUOTmJ",
        "outputId": "bc68ffb3-0acd-44f9-996a-c2cf1c557cfc"
      },
      "outputs": [
        {
          "output_type": "stream",
          "name": "stdout",
          "text": [
            "Congratulations, Ritu! You have been selected as the best candidate.\n"
          ]
        }
      ],
      "source": [
        "import csv\n",
        "from sklearn.metrics import accuracy_score\n",
        "\n",
        "def read_applicants_csv(file_path):\n",
        "    applicants = []\n",
        "    with open(file_path, 'r') as file:\n",
        "        reader = csv.DictReader(file)\n",
        "        for row in reader:\n",
        "            applicants.append(row)\n",
        "    return applicants\n",
        "\n",
        "def filter_applicants(applicants, required_skills):\n",
        "    qualified_applicants = []\n",
        "    for applicant in applicants:\n",
        "        skills = applicant['TechnicalSkills'].split(',')\n",
        "        if all(skill.strip() in skills for skill in required_skills):\n",
        "            qualified_applicants.append(applicant)\n",
        "    return qualified_applicants\n",
        "\n",
        "def conduct_technical_round(qualified_applicants):\n",
        "    for applicant in qualified_applicants:\n",
        "        technical_score = simulate_technical_round_test(applicant)\n",
        "        applicant['TechnicalScore'] = technical_score\n",
        "\n",
        "def simulate_technical_round_test(applicant):\n",
        "    expected_skills = ['Python', 'SQL', 'Data Analysis']\n",
        "    applicant_skills = applicant['TechnicalSkills'].split(',')\n",
        "    technical_score = accuracy_score(expected_skills, applicant_skills)\n",
        "    return technical_score\n",
        "\n",
        "def conduct_soft_skill_round(qualified_applicants):\n",
        "    for applicant in qualified_applicants:\n",
        "        soft_skill_score = simulate_soft_skill_round_test(applicant)\n",
        "        applicant['SoftSkillScore'] = soft_skill_score\n",
        "\n",
        "def simulate_soft_skill_round_test(applicant):\n",
        "    expected_soft_skills = ['Communication', 'Problem-solving', 'Teamwork']\n",
        "    applicant_soft_skills = applicant['SoftSkills'].split(',')\n",
        "    soft_skill_score = 0\n",
        "    for expected_skill in expected_soft_skills:\n",
        "        if expected_skill in applicant_soft_skills:\n",
        "            soft_skill_score += 1\n",
        "    overall_soft_skill_score = soft_skill_score / len(expected_soft_skills)\n",
        "    return overall_soft_skill_score\n",
        "\n",
        "def calculate_combined_scores(qualified_applicants, tech_weight, soft_skill_weight):\n",
        "    for applicant in qualified_applicants:\n",
        "        applicant['CombinedScore'] = (tech_weight * applicant['TechnicalScore']) + (soft_skill_weight * applicant['SoftSkillScore'])\n",
        "    qualified_applicants.sort(key=lambda x: x['CombinedScore'], reverse=True)\n",
        "\n",
        "def hire_best_candidate(qualified_applicants):\n",
        "    if len(qualified_applicants) == 0:\n",
        "        print(\"There are no qualified applicants.\")\n",
        "    else:\n",
        "        best_candidate = qualified_applicants[0]\n",
        "        print(\"Congratulations, {}! You have been selected as the best candidate.\".format(best_candidate['Name']))\n",
        "\n",
        "file_path = 'job-applicants.csv'\n",
        "required_skills = ['Python', 'Java']\n",
        "required_soft_skills = ['Communication', 'Problem-solving', 'Teamwork']\n",
        "\n",
        "applicants = read_applicants_csv(file_path)\n",
        "qualified_applicants = filter_applicants(applicants, required_skills)\n",
        "\n",
        "conduct_technical_round(qualified_applicants)\n",
        "conduct_soft_skill_round(qualified_applicants)\n",
        "calculate_combined_scores(qualified_applicants, tech_weight=0.6, soft_skill_weight=0.4)\n",
        "hire_best_candidate(qualified_applicants)"
      ]
    }
  ]
}